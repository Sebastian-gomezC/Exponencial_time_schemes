{
 "cells": [
  {
   "cell_type": "code",
   "execution_count": 4,
   "id": "d189395d",
   "metadata": {
    "ExecuteTime": {
     "end_time": "2024-08-05T21:50:05.948352Z",
     "start_time": "2024-08-05T21:50:05.789901Z"
    }
   },
   "outputs": [
    {
     "name": "stdout",
     "output_type": "stream",
     "text": [
      "Exponential of matrix A applied to vector x:\n",
      "Vec Object: 1 MPI process\n",
      "  type: seq\n",
      "1.\n",
      "1.\n",
      "1.\n",
      "1.\n"
     ]
    },
    {
     "data": {
      "text/plain": [
       "<slepc4py.SLEPc.MFN at 0x7ffb99a16ed0>"
      ]
     },
     "execution_count": 4,
     "metadata": {},
     "output_type": "execute_result"
    }
   ],
   "source": [
    "import petsc4py\n",
    "petsc4py.init()\n",
    "\n",
    "from petsc4py import PETSc\n",
    "from slepc4py import SLEPc\n",
    "\n",
    "# Step 1: Create the matrix A\n",
    "n = 4  # Matrix size\n",
    "A = PETSc.Mat().createAIJ([n, n])  # Create a matrix of size n x n\n",
    "A.setFromOptions()\n",
    "A.setUp()\n",
    "\n",
    "# Fill matrix A with values (you can define your matrix here)\n",
    "A[0, 0] = 1.0\n",
    "A[1, 1] = 2.0\n",
    "A[2, 2] = 3.0\n",
    "A[3, 3] = 4.0\n",
    "A[0, 1] = 0.1\n",
    "A[1, 2] = 0.1\n",
    "A[2, 3] = 0.1\n",
    "A.assemble()\n",
    "\n",
    "# Step 2: Configure the SLEPc MFN solver for matrix exponential\n",
    "mfn = SLEPc.MFN().create()\n",
    "mfn.setType(SLEPc.MFN.Type.KRYLOV)  # Set the solver type to matrix exponential\n",
    "mfn.setFromOptions()\n",
    "\n",
    "# Step 3: Apply the solver to compute the matrix exponential\n",
    "x = A.createVecRight()  # Create a vector x of size compatible with A\n",
    "b = A.createVecRight()  # Vector b to hold the result\n",
    "\n",
    "x.set(1.0)  # Set the initial vector (you can customize this)\n",
    "mfn.setOperator(A)  # Set the matrix A as the operator\n",
    "mfn.solve(x, b)  # Compute the exponential of A applied to vector x\n",
    "\n",
    "# Step 4: Retrieve and print the result\n",
    "print(\"Exponential of matrix A applied to vector x:\")\n",
    "b.view()  # View the result (vector b)\n",
    "\n",
    "# Optional: Cleanup\n",
    "A.destroy()\n",
    "x.destroy()\n",
    "b.destroy()\n",
    "mfn.destroy()\n"
   ]
  },
  {
   "cell_type": "code",
   "execution_count": 3,
   "id": "7d79338b-e6f4-4806-afcd-78fc95ed4763",
   "metadata": {},
   "outputs": [
    {
     "data": {
      "text/plain": [
       "['EXPOKIT',\n",
       " 'KRYLOV',\n",
       " '__class__',\n",
       " '__delattr__',\n",
       " '__dict__',\n",
       " '__dir__',\n",
       " '__doc__',\n",
       " '__eq__',\n",
       " '__format__',\n",
       " '__ge__',\n",
       " '__getattribute__',\n",
       " '__gt__',\n",
       " '__hash__',\n",
       " '__init__',\n",
       " '__init_subclass__',\n",
       " '__le__',\n",
       " '__lt__',\n",
       " '__module__',\n",
       " '__ne__',\n",
       " '__new__',\n",
       " '__reduce__',\n",
       " '__reduce_ex__',\n",
       " '__repr__',\n",
       " '__setattr__',\n",
       " '__sizeof__',\n",
       " '__str__',\n",
       " '__subclasshook__',\n",
       " '__weakref__']"
      ]
     },
     "execution_count": 3,
     "metadata": {},
     "output_type": "execute_result"
    }
   ],
   "source": [
    "dir(SLEPc.MFN.Type)"
   ]
  }
 ],
 "metadata": {
  "kernelspec": {
   "display_name": "Python 3 (ipykernel)",
   "language": "python",
   "name": "python3"
  },
  "language_info": {
   "codemirror_mode": {
    "name": "ipython",
    "version": 3
   },
   "file_extension": ".py",
   "mimetype": "text/x-python",
   "name": "python",
   "nbconvert_exporter": "python",
   "pygments_lexer": "ipython3",
   "version": "3.10.12"
  },
  "varInspector": {
   "cols": {
    "lenName": 16,
    "lenType": 16,
    "lenVar": 40
   },
   "kernels_config": {
    "python": {
     "delete_cmd_postfix": "",
     "delete_cmd_prefix": "del ",
     "library": "var_list.py",
     "varRefreshCmd": "print(var_dic_list())"
    },
    "r": {
     "delete_cmd_postfix": ") ",
     "delete_cmd_prefix": "rm(",
     "library": "var_list.r",
     "varRefreshCmd": "cat(var_dic_list()) "
    }
   },
   "types_to_exclude": [
    "module",
    "function",
    "builtin_function_or_method",
    "instance",
    "_Feature"
   ],
   "window_display": false
  }
 },
 "nbformat": 4,
 "nbformat_minor": 5
}
